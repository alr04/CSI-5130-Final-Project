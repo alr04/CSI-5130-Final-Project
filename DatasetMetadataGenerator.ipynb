{
 "cells": [
  {
   "cell_type": "code",
   "execution_count": 1,
   "id": "60487c7b-4412-45cb-b257-6e1201fa3d54",
   "metadata": {},
   "outputs": [],
   "source": [
    "import os"
   ]
  },
  {
   "cell_type": "code",
   "execution_count": 2,
   "id": "5a1e8a6f-286c-407b-9cb0-1092004d402b",
   "metadata": {},
   "outputs": [
    {
     "name": "stdout",
     "output_type": "stream",
     "text": [
      "43200\n"
     ]
    }
   ],
   "source": [
    "my_path = r\"/Users/alberthua/audio_augmented_x10\"\n",
    "\n",
    "file_names = os.listdir(my_path)\n",
    "\n",
    "print(len(file_names))"
   ]
  },
  {
   "cell_type": "code",
   "execution_count": 3,
   "id": "93d46cb9-b013-465c-a089-39cc0f0e1037",
   "metadata": {},
   "outputs": [],
   "source": [
    "meta_file_1 = open(\"root.csv\", \"w\")\n",
    "meta_file_1.write(\"id, file_name, class_id, class_name\\n\")\n",
    "\n",
    "for i, my_file in enumerate(file_names):\n",
    "    if '.wav' in my_file:\n",
    "        the_root = my_file[8:10]\n",
    "        class_id = ''\n",
    "        if the_root == 'Af':\n",
    "            class_id = 1\n",
    "        elif the_root == 'An':\n",
    "            class_id = 2\n",
    "        elif the_root == 'Bf':\n",
    "            class_id = 3\n",
    "        elif the_root == 'Bn':\n",
    "            class_id = 4\n",
    "        elif the_root == 'Cn':\n",
    "            class_id = 5\n",
    "        elif the_root == 'Df':\n",
    "            class_id = 6\n",
    "        elif the_root == 'Dn':\n",
    "            class_id = 7\n",
    "        elif the_root == 'Ef':\n",
    "            class_id = 8\n",
    "        elif the_root == 'En':\n",
    "            class_id = 9\n",
    "        elif the_root == 'Fn':\n",
    "            class_id = 10\n",
    "        elif the_root == 'Gf':\n",
    "            class_id = 11\n",
    "        elif the_root == 'Gn':\n",
    "            class_id = 12\n",
    "        \n",
    "        meta_file_1.write(f\"{i+1},{my_file},{class_id},{the_root}\\n\")\n",
    "\n",
    "meta_file_1.close()"
   ]
  },
  {
   "cell_type": "code",
   "execution_count": 4,
   "id": "3d18e428-ac12-4279-b7db-bc3e4ca70989",
   "metadata": {},
   "outputs": [],
   "source": [
    "meta_file_2 = open(\"chord_type.csv\", \"w\")\n",
    "meta_file_2.write(\"id, file_name, class_id, class_name\\n\")\n",
    "\n",
    "for i, my_file in enumerate(file_names):\n",
    "    if '.wav' in my_file:\n",
    "        the_type = my_file[11]\n",
    "        class_id = ''\n",
    "        if the_type == 'j':\n",
    "            class_id = 1\n",
    "        elif the_type == 'n':\n",
    "            class_id = 2\n",
    "        elif the_type == 'd':\n",
    "            class_id = 3\n",
    "        elif the_type == 'a':\n",
    "            class_id = 4\n",
    "        \n",
    "        meta_file_2.write(f\"{i+1},{my_file},{class_id},{the_type}\\n\")\n",
    "\n",
    "meta_file_2.close()"
   ]
  }
 ],
 "metadata": {
  "kernelspec": {
   "display_name": "base",
   "language": "python",
   "name": "python3"
  },
  "language_info": {
   "codemirror_mode": {
    "name": "ipython",
    "version": 3
   },
   "file_extension": ".py",
   "mimetype": "text/x-python",
   "name": "python",
   "nbconvert_exporter": "python",
   "pygments_lexer": "ipython3",
   "version": "3.9.12"
  }
 },
 "nbformat": 4,
 "nbformat_minor": 5
}
